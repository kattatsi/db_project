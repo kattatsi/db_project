{
  "nbformat": 4,
  "nbformat_minor": 0,
  "metadata": {
    "colab": {
      "provenance": []
    },
    "kernelspec": {
      "name": "python3",
      "display_name": "Python 3"
    },
    "language_info": {
      "name": "python"
    }
  },
  "cells": [
    {
      "cell_type": "code",
      "execution_count": null,
      "metadata": {
        "id": "eKzJL-3uC2-f"
      },
      "outputs": [],
      "source": [
        "import pandas as pd\n",
        "import numpy as np\n",
        "import re\n",
        "import random"
      ]
    },
    {
      "cell_type": "code",
      "source": [
        "import pandas as pd\n",
        "import re\n",
        "\n",
        "# Load the data\n",
        "with open('help.csv', 'r') as f:\n",
        "    data = f.read().splitlines()\n",
        "\n",
        "processed = {\n",
        "    'Recipe':[],\n",
        "    'Ingredient':[],\n",
        "    'Quantity':[]\n",
        "}\n",
        "\n",
        "\n",
        "# Iterate over each line in the data\n",
        "for line in data:\n",
        "    # Use regex to split the recipe and ingredients\n",
        "    match = re.match(r'^(.+?)\\t(\\[.+\\])$', line)\n",
        "    if match:\n",
        "        recipe = match.group(1)\n",
        "        ingredients = eval(match.group(2))\n",
        "\n",
        "        # Iterate over each ingredient\n",
        "        for ingredient in ingredients:\n",
        "            # Use regex to separate quantity from the ingredient\n",
        "            match = re.match(r'([0-9/¼½¾]+)', ingredient)\n",
        "            if match:\n",
        "                quantity = match.group(1)\n",
        "                ingredient_name = ingredient[len(quantity):].strip()\n",
        "            else:\n",
        "                quantity = ''\n",
        "                ingredient_name = ingredient.strip()\n",
        "\n",
        "            # Append the data to the processed DataFrame\n",
        "            processed['Recipe'].append(recipe)\n",
        "            processed['Ingredient'].append(ingredient_name)\n",
        "            processed['Quantity'].append(quantity)\n",
        "\n",
        "\n",
        "processed_df = pd.DataFrame(processed)\n",
        "# Save the processed data to a new CSV file\n",
        "processed_df.to_csv('processed_recipes.csv', index=False)\n"
      ],
      "metadata": {
        "id": "pBOyXb5Os43d"
      },
      "execution_count": 79,
      "outputs": []
    }
  ]
}