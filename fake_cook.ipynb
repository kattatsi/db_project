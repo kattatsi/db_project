{
  "nbformat": 4,
  "nbformat_minor": 0,
  "metadata": {
    "colab": {
      "provenance": []
    },
    "kernelspec": {
      "name": "python3",
      "display_name": "Python 3"
    },
    "language_info": {
      "name": "python"
    }
  },
  "cells": [
    {
      "cell_type": "code",
      "source": [
        "pip install Faker"
      ],
      "metadata": {
        "colab": {
          "base_uri": "https://localhost:8080/"
        },
        "id": "TM8bkOtNb58S",
        "outputId": "e7c2384d-8633-4e98-a998-a9535e0c0501"
      },
      "execution_count": null,
      "outputs": [
        {
          "output_type": "stream",
          "name": "stdout",
          "text": [
            "Collecting Faker\n",
            "  Downloading Faker-25.2.0-py3-none-any.whl (1.8 MB)\n",
            "\u001b[2K     \u001b[90m━━━━━━━━━━━━━━━━━━━━━━━━━━━━━━━━━━━━━━━━\u001b[0m \u001b[32m1.8/1.8 MB\u001b[0m \u001b[31m8.0 MB/s\u001b[0m eta \u001b[36m0:00:00\u001b[0m\n",
            "\u001b[?25hRequirement already satisfied: python-dateutil>=2.4 in /usr/local/lib/python3.10/dist-packages (from Faker) (2.8.2)\n",
            "Requirement already satisfied: six>=1.5 in /usr/local/lib/python3.10/dist-packages (from python-dateutil>=2.4->Faker) (1.16.0)\n",
            "Installing collected packages: Faker\n",
            "Successfully installed Faker-25.2.0\n"
          ]
        }
      ]
    },
    {
      "cell_type": "code",
      "execution_count": null,
      "metadata": {
        "id": "bqpkZIIZLVwu"
      },
      "outputs": [],
      "source": [
        "from faker import Faker\n",
        "import pandas as pd\n",
        "import datetime\n",
        "import random\n",
        "from dateutil.relativedelta import relativedelta\n",
        "import csv"
      ]
    },
    {
      "cell_type": "code",
      "source": [
        "cook_dict = {\n",
        "    \"cook_id\": [],\n",
        "    \"cook_first_name\":[],\n",
        "    \"cook_last_name\":[],\n",
        "    \"phone_number\":[],\n",
        "    \"date_of_birth\":[],\n",
        "    \"age\":[],\n",
        "    \"years_exp\":[],\n",
        "    \"rank\":[],\n",
        "    \"Image_id\":[]\n",
        "}\n",
        "\n",
        "ranks = [\"C Cook\", \"B Cook\", \"A Cook\", \"Sous-chef\", \"Chef\"]\n",
        "\n",
        "fake = Faker()\n",
        "\n",
        "N = 100\n",
        "for i in range(0, 60):\n",
        "    cook_dict[\"cook_id\"].append(i+1)\n",
        "    cook_dict[\"cook_first_name\"].append(fake.first_name())\n",
        "    cook_dict[\"cook_last_name\"].append(fake.last_name())\n",
        "    cook_dict[\"phone_number\"].append(fake.phone_number())\n",
        "\n",
        "    end_date = datetime.date.today()\n",
        "    start_date = fake.date_between(start_date=datetime.date(1970, 1, 1), end_date=datetime.date(2003, 12, 30))\n",
        "    diff = relativedelta(end_date, start_date).years\n",
        "\n",
        "    cook_dict[\"date_of_birth\"].append(start_date)\n",
        "    cook_dict[\"age\"].append(0)\n",
        "    cook_dict[\"years_exp\"].append(random.randint(3,diff))\n",
        "    cook_dict[\"rank\"].append(random.choice(ranks))\n",
        "    cook_dict[\"Image_id\"].append(6001+i)"
      ],
      "metadata": {
        "id": "gMXF6-_KaoEH"
      },
      "execution_count": 15,
      "outputs": []
    },
    {
      "cell_type": "code",
      "source": [
        "chef_df = pd.DataFrame(cook_dict)\n",
        "chef_df.to_csv(\"chef.csv\", index=False, quoting=csv.QUOTE_NONNUMERIC, quotechar='\"')"
      ],
      "metadata": {
        "id": "1ezp1rz6avg7"
      },
      "execution_count": 16,
      "outputs": []
    }
  ]
}