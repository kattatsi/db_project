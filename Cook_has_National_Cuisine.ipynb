{
  "nbformat": 4,
  "nbformat_minor": 0,
  "metadata": {
    "colab": {
      "provenance": []
    },
    "kernelspec": {
      "name": "python3",
      "display_name": "Python 3"
    },
    "language_info": {
      "name": "python"
    }
  },
  "cells": [
    {
      "cell_type": "code",
      "source": [
        "import pandas as pd\n",
        "import numpy as np\n",
        "import re\n",
        "import random\n",
        "import sys"
      ],
      "metadata": {
        "id": "AwBQ2A1ngwgt"
      },
      "execution_count": 23,
      "outputs": []
    },
    {
      "cell_type": "code",
      "source": [
        "data = {\n",
        "    'Cook_cook_id':[],\n",
        "    'National_Cuisine_cuisine':[]\n",
        "}\n",
        "\n",
        "National_Cuisine = ['Japanese', 'American', 'Italian', 'Spanish', 'French', 'Russian', 'Korean', 'Indian', 'Albanian', 'Greek', 'Vietnamese', 'Mexican', 'Ukranian', 'German', 'Canadian', 'Armenian']\n",
        "i = 1\n",
        "while(i < 61):\n",
        "    num = random.randint(2, 4)\n",
        "    for times in range(1, num+1):\n",
        "        data['Cook_cook_id'].append(i)\n",
        "        data['National_Cuisine_cuisine'].append(random.choice(National_Cuisine))\n",
        "    i+=1\n",
        "data_df = pd.DataFrame(data)\n",
        "data_df.to_csv(\"data.csv\", index=False)\n"
      ],
      "metadata": {
        "id": "tl4zeQvLgwW4"
      },
      "execution_count": 24,
      "outputs": []
    }
  ]
}