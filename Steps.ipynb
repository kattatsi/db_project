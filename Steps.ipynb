{
  "nbformat": 4,
  "nbformat_minor": 0,
  "metadata": {
    "colab": {
      "provenance": []
    },
    "kernelspec": {
      "name": "python3",
      "display_name": "Python 3"
    },
    "language_info": {
      "name": "python"
    }
  },
  "cells": [
    {
      "cell_type": "code",
      "execution_count": 1,
      "metadata": {
        "id": "eKzJL-3uC2-f"
      },
      "outputs": [],
      "source": [
        "import pandas as pd\n",
        "import numpy as np\n",
        "import re\n",
        "import random\n",
        "import sys"
      ]
    },
    {
      "cell_type": "code",
      "source": [
        "# Read the input CSV file\n",
        "df = pd.read_csv('WannabeSteps.csv')\n",
        "\n",
        "steps_dict = {\n",
        "    'Step_Number':[],\n",
        "    'Steps':[],\n",
        "    'Recipe_name':[],\n",
        "}\n",
        "\n",
        "# Process each row in the input DataFrame\n",
        "for index, row in df.iterrows():\n",
        "    # Split the steps into a list\n",
        "    steps = row[1].split('. ')\n",
        "    # For each step, append a new row to the output DataFrame\n",
        "    for i, step in enumerate(steps, start=1):\n",
        "        steps_dict['Step_Number'].append(i)\n",
        "        steps_dict['Steps'].append(step)\n",
        "        steps_dict['Recipe_name'].append(row[0])\n",
        "\n",
        "# Write the output DataFrame to a new CSV file\n",
        "output = pd.DataFrame(steps_dict)\n",
        "output.to_csv('OutputSteps.csv', index=False)\n"
      ],
      "metadata": {
        "id": "K-CxF-3hSMIA"
      },
      "execution_count": 2,
      "outputs": []
    }
  ]
}